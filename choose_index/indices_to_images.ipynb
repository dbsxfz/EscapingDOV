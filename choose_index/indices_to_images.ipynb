{
 "cells": [
  {
   "cell_type": "code",
   "execution_count": null,
   "metadata": {},
   "outputs": [],
   "source": [
    "import torchvision.datasets as datasets\n",
    "from torch.utils.data import Subset\n",
    "import numpy as np\n",
    "\n",
    "LSVRC_indices = np.load('../data/badnets_indices.npy').tolist()\n",
    "LSVRC_train = datasets.ImageFolder(root='../data/ImageNet-1K/train/')\n",
    "trainset = Subset(LSVRC_train, LSVRC_indices)"
   ]
  },
  {
   "cell_type": "code",
   "execution_count": null,
   "metadata": {},
   "outputs": [],
   "source": [
    "import os\n",
    "import shutil\n",
    "from PIL import Image\n",
    "from tqdm import tqdm\n",
    "from concurrent.futures import ThreadPoolExecutor\n",
    "\n",
    "# Set the destination folder and target resize dimensions\n",
    "destination_folder = '../data/transfer_sets/badnets/'\n",
    "resize_size = (32, 32)  # Target resize dimensions\n",
    "max_workers = 16  # Number of threads\n",
    "\n",
    "# Recreate the destination folder\n",
    "if os.path.exists(destination_folder):\n",
    "    shutil.rmtree(destination_folder)\n",
    "os.makedirs(destination_folder)\n",
    "\n",
    "# Thread-safe logging for errors\n",
    "error_log = []\n",
    "\n",
    "# Function to process a single image\n",
    "def process_image(index, img, destination_folder, resize_size):\n",
    "    destination_path = os.path.join(destination_folder, f'{index}.png')\n",
    "    try:\n",
    "        # Skip resizing if the image is already the correct size\n",
    "        if img.size != resize_size:\n",
    "            img = img.resize(resize_size, Image.LANCZOS)\n",
    "        img.save(destination_path, format='PNG')\n",
    "    except Exception as e:\n",
    "        error_message = f\"Error processing image at index {index}: {e}\"\n",
    "        error_log.append(error_message)\n",
    "\n",
    "# Process the dataset using a ThreadPoolExecutor\n",
    "with ThreadPoolExecutor(max_workers=max_workers) as executor:\n",
    "    # Wrap tqdm around dataset indices\n",
    "    with tqdm(total=len(trainset), desc=\"Processing images\") as pbar:\n",
    "        futures = []\n",
    "        for index in range(len(trainset)):\n",
    "            img, _ = trainset[index]  # Fetch the PIL image\n",
    "            futures.append(executor.submit(process_image, index, img, destination_folder, resize_size))\n",
    "\n",
    "        # Monitor progress as tasks complete\n",
    "        for future in futures:\n",
    "            future.result()\n",
    "            pbar.update(1)\n",
    "\n",
    "# Print errors if any occurred\n",
    "if error_log:\n",
    "    print(\"The following errors occurred during processing:\")\n",
    "    for error in error_log:\n",
    "        print(error)\n",
    "else:\n",
    "    print(\"All images processed successfully!\")"
   ]
  }
 ],
 "metadata": {
  "kernelspec": {
   "display_name": "vision",
   "language": "python",
   "name": "python3"
  },
  "language_info": {
   "codemirror_mode": {
    "name": "ipython",
    "version": 3
   },
   "file_extension": ".py",
   "mimetype": "text/x-python",
   "name": "python",
   "nbconvert_exporter": "python",
   "pygments_lexer": "ipython3",
   "version": "3.10.13"
  }
 },
 "nbformat": 4,
 "nbformat_minor": 2
}
