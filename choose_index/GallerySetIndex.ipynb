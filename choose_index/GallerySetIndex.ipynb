{
 "cells": [
  {
   "cell_type": "code",
   "execution_count": null,
   "metadata": {},
   "outputs": [],
   "source": [
    "from torchvision import transforms\n",
    "\n",
    "transform = transforms.Compose([\n",
    "    transforms.Resize((128, 128)),\n",
    "    transforms.ToTensor(),\n",
    "])\n",
    "\n",
    "import torchvision.datasets as datasets\n",
    "\n",
    "LSVRC_train = datasets.ImageFolder(root='../data/ImageNet-1K/train', transform=transform)"
   ]
  },
  {
   "cell_type": "code",
   "execution_count": null,
   "metadata": {},
   "outputs": [],
   "source": [
    "import mobileclip\n",
    "model_clip, _, preprocess = mobileclip.create_model_and_transforms('mobileclip_s0', pretrained='../models/mobileclip_s0.pt')\n",
    "tokenizer = mobileclip.get_tokenizer('mobileclip_s0')\n",
    "device = 'cuda:0'\n",
    "model_clip = model_clip.eval().to(device)"
   ]
  },
  {
   "cell_type": "code",
   "execution_count": null,
   "metadata": {},
   "outputs": [],
   "source": [
    "import torch\n",
    "from tqdm import tqdm\n",
    "from torch.utils.data import DataLoader\n",
    "trainset_loader = DataLoader(LSVRC_train, batch_size=128, shuffle=False, num_workers=8)\n",
    "\n",
    "def get_features(model_clip, dataloader):\n",
    "    all_features = []\n",
    "\n",
    "    with torch.no_grad():\n",
    "        for images, _ in tqdm(dataloader):\n",
    "            features = model_clip.encode_image(images.to(device))\n",
    "\n",
    "            all_features.append(features)\n",
    "\n",
    "    return torch.cat(all_features).cpu().numpy()\n",
    "\n",
    "LSVRC_features = get_features(model_clip, trainset_loader)"
   ]
  },
  {
   "cell_type": "code",
   "execution_count": null,
   "metadata": {},
   "outputs": [],
   "source": [
    "LSVRC_features.shape"
   ]
  },
  {
   "cell_type": "code",
   "execution_count": null,
   "metadata": {},
   "outputs": [],
   "source": [
    "torch.save(LSVRC_features, '../data/trainset_128.pt')"
   ]
  }
 ],
 "metadata": {
  "kernelspec": {
   "display_name": "vision",
   "language": "python",
   "name": "python3"
  },
  "language_info": {
   "codemirror_mode": {
    "name": "ipython",
    "version": 3
   },
   "file_extension": ".py",
   "mimetype": "text/x-python",
   "name": "python",
   "nbconvert_exporter": "python",
   "pygments_lexer": "ipython3",
   "version": "3.10.13"
  }
 },
 "nbformat": 4,
 "nbformat_minor": 2
}
